{
 "cells": [
  {
   "cell_type": "code",
   "execution_count": 1,
   "metadata": {},
   "outputs": [],
   "source": [
    "import requests\n",
    "import os\n",
    "import json\n",
    "from datetime import datetime, timedelta"
   ]
  },
  {
   "cell_type": "code",
   "execution_count": 2,
   "metadata": {},
   "outputs": [],
   "source": [
    "import pandas as pd"
   ]
  },
  {
   "cell_type": "markdown",
   "metadata": {},
   "source": [
    "`https://api.nasa.gov/neo/rest/v1/feed?start_date=START_DATE&end_date=END_DATE&api_key=API_KEY`"
   ]
  },
  {
   "cell_type": "code",
   "execution_count": 82,
   "metadata": {},
   "outputs": [],
   "source": [
    "req = requests.get(\"https://api.nasa.gov/neo/rest/v1/feed\",\n",
    "                   params={'api_key': os.environ['NASA_API_KEY'],\n",
    "                           'start_date': datetime.now().strftime(\"%Y-%m-%d\"),\n",
    "                           'end_date': (datetime.now()+timedelta(days=6)).strftime(\"%Y-%m-%d\")})"
   ]
  },
  {
   "cell_type": "code",
   "execution_count": 83,
   "metadata": {},
   "outputs": [],
   "source": [
    "def get_asteroid_data(asteroid: dict):\n",
    "    link = asteroid['nasa_jpl_url']\n",
    "    name = asteroid['name']\n",
    "    avg_width = (asteroid['estimated_diameter']['meters']['estimated_diameter_min'] \\\n",
    "                 + asteroid['estimated_diameter']['meters']['estimated_diameter_max'])/2\n",
    "    velocity_km_s = float(asteroid['close_approach_data'][0]['relative_velocity']['kilometers_per_second'])\n",
    "    approach_date = datetime.fromtimestamp(asteroid['close_approach_data'][0]['epoch_date_close_approach']/1000)\n",
    "    potentially_hazardous = int(asteroid['is_potentially_hazardous_asteroid'])\n",
    "    miss_distance_km = float(asteroid['close_approach_data'][0]['miss_distance']['kilometers'])\n",
    "    return dict(link=link,\n",
    "                name=name,\n",
    "                width_m=avg_width,\n",
    "               velocity_km_s=velocity_km_s,\n",
    "               approach_date=approach_date,\n",
    "               potentially_hazardous=potentially_hazardous,\n",
    "               miss_distance_km=miss_distance_km)"
   ]
  },
  {
   "cell_type": "code",
   "execution_count": 85,
   "metadata": {},
   "outputs": [],
   "source": [
    "def get_request_metadata(request):\n",
    "    if req.status_code != 200:\n",
    "        return {'error': True,\n",
    "                'message': req.text}\n",
    "    req_json = req.json()\n",
    "    day_neo_li_dict = req_json['near_earth_objects']\n",
    "    return {day: len(neo_li) for day, neo_li in day_neo_li_dict.items()}"
   ]
  },
  {
   "cell_type": "code",
   "execution_count": 86,
   "metadata": {},
   "outputs": [
    {
     "data": {
      "text/plain": [
       "{'2021-01-02': 15,\n",
       " '2021-01-01': 6,\n",
       " '2020-12-29': 10,\n",
       " '2020-12-27': 13,\n",
       " '2020-12-28': 14,\n",
       " '2020-12-30': 7,\n",
       " '2020-12-31': 8}"
      ]
     },
     "execution_count": 86,
     "metadata": {},
     "output_type": "execute_result"
    }
   ],
   "source": [
    "get_request_metadata(req)"
   ]
  },
  {
   "cell_type": "code",
   "execution_count": 87,
   "metadata": {},
   "outputs": [],
   "source": [
    "rock_df = pd.DataFrame(list(map(get_asteroid_data,[rock for day in req.json()['near_earth_objects'].values() for rock in day])))"
   ]
  },
  {
   "cell_type": "code",
   "execution_count": 9,
   "metadata": {},
   "outputs": [],
   "source": [
    "from bokeh.io import output_notebook, output_file"
   ]
  },
  {
   "cell_type": "code",
   "execution_count": 10,
   "metadata": {},
   "outputs": [],
   "source": [
    "output_file('plot.html')"
   ]
  },
  {
   "cell_type": "code",
   "execution_count": 11,
   "metadata": {},
   "outputs": [],
   "source": [
    "from bokeh.io import show\n",
    "from bokeh.plotting import show, figure\n",
    "from bokeh.models import ColumnDataSource, LinearColorMapper\n",
    "from bokeh.transform import transform\n",
    "from bokeh.palettes import Viridis256, Inferno256"
   ]
  },
  {
   "cell_type": "code",
   "execution_count": 12,
   "metadata": {},
   "outputs": [],
   "source": [
    "selection = rock_df[(rock_df.approach_date >= datetime.now()) &\n",
    "        (rock_df.approach_date < datetime.now() + timedelta(hours=24))].sort_values('approach_date')"
   ]
  },
  {
   "cell_type": "code",
   "execution_count": 13,
   "metadata": {},
   "outputs": [
    {
     "data": {
      "text/html": [
       "<div>\n",
       "<style scoped>\n",
       "    .dataframe tbody tr th:only-of-type {\n",
       "        vertical-align: middle;\n",
       "    }\n",
       "\n",
       "    .dataframe tbody tr th {\n",
       "        vertical-align: top;\n",
       "    }\n",
       "\n",
       "    .dataframe thead th {\n",
       "        text-align: right;\n",
       "    }\n",
       "</style>\n",
       "<table border=\"1\" class=\"dataframe\">\n",
       "  <thead>\n",
       "    <tr style=\"text-align: right;\">\n",
       "      <th></th>\n",
       "      <th>link</th>\n",
       "      <th>name</th>\n",
       "      <th>width_m</th>\n",
       "      <th>velocity_km_s</th>\n",
       "      <th>approach_date</th>\n",
       "      <th>potentially_hazardous</th>\n",
       "      <th>miss_distance_km</th>\n",
       "    </tr>\n",
       "  </thead>\n",
       "  <tbody>\n",
       "    <tr>\n",
       "      <th>0</th>\n",
       "      <td>http://ssd.jpl.nasa.gov/sbdb.cgi?sstr=2162173</td>\n",
       "      <td>162173 Ryugu (1999 JU3)</td>\n",
       "      <td>593.666601</td>\n",
       "      <td>4.110465</td>\n",
       "      <td>2020-12-28 16:46:00</td>\n",
       "      <td>1</td>\n",
       "      <td>9.054782e+06</td>\n",
       "    </tr>\n",
       "    <tr>\n",
       "      <th>1</th>\n",
       "      <td>http://ssd.jpl.nasa.gov/sbdb.cgi?sstr=2276409</td>\n",
       "      <td>276409 (2002 YN2)</td>\n",
       "      <td>858.109316</td>\n",
       "      <td>27.090084</td>\n",
       "      <td>2020-12-29 04:14:00</td>\n",
       "      <td>0</td>\n",
       "      <td>5.201433e+07</td>\n",
       "    </tr>\n",
       "    <tr>\n",
       "      <th>2</th>\n",
       "      <td>http://ssd.jpl.nasa.gov/sbdb.cgi?sstr=2480883</td>\n",
       "      <td>480883 (2001 YE4)</td>\n",
       "      <td>311.560661</td>\n",
       "      <td>25.743504</td>\n",
       "      <td>2020-12-29 00:08:00</td>\n",
       "      <td>1</td>\n",
       "      <td>5.753496e+07</td>\n",
       "    </tr>\n",
       "    <tr>\n",
       "      <th>3</th>\n",
       "      <td>http://ssd.jpl.nasa.gov/sbdb.cgi?sstr=3752904</td>\n",
       "      <td>(2016 JP15)</td>\n",
       "      <td>247.481430</td>\n",
       "      <td>22.140547</td>\n",
       "      <td>2020-12-29 07:10:00</td>\n",
       "      <td>0</td>\n",
       "      <td>7.088884e+07</td>\n",
       "    </tr>\n",
       "    <tr>\n",
       "      <th>4</th>\n",
       "      <td>http://ssd.jpl.nasa.gov/sbdb.cgi?sstr=3787623</td>\n",
       "      <td>(2017 UP2)</td>\n",
       "      <td>430.073434</td>\n",
       "      <td>13.958973</td>\n",
       "      <td>2020-12-29 15:40:00</td>\n",
       "      <td>0</td>\n",
       "      <td>2.721527e+07</td>\n",
       "    </tr>\n",
       "    <tr>\n",
       "      <th>...</th>\n",
       "      <td>...</td>\n",
       "      <td>...</td>\n",
       "      <td>...</td>\n",
       "      <td>...</td>\n",
       "      <td>...</td>\n",
       "      <td>...</td>\n",
       "      <td>...</td>\n",
       "    </tr>\n",
       "    <tr>\n",
       "      <th>71</th>\n",
       "      <td>http://ssd.jpl.nasa.gov/sbdb.cgi?sstr=3736807</td>\n",
       "      <td>(2015 YA)</td>\n",
       "      <td>14.241070</td>\n",
       "      <td>5.650564</td>\n",
       "      <td>2020-12-31 08:00:00</td>\n",
       "      <td>0</td>\n",
       "      <td>2.558024e+07</td>\n",
       "    </tr>\n",
       "    <tr>\n",
       "      <th>72</th>\n",
       "      <td>http://ssd.jpl.nasa.gov/sbdb.cgi?sstr=3781461</td>\n",
       "      <td>(2017 RZ15)</td>\n",
       "      <td>16.350936</td>\n",
       "      <td>19.482551</td>\n",
       "      <td>2020-12-31 13:32:00</td>\n",
       "      <td>0</td>\n",
       "      <td>5.615976e+07</td>\n",
       "    </tr>\n",
       "    <tr>\n",
       "      <th>73</th>\n",
       "      <td>http://ssd.jpl.nasa.gov/sbdb.cgi?sstr=3837605</td>\n",
       "      <td>(2019 AE3)</td>\n",
       "      <td>14.241070</td>\n",
       "      <td>7.870630</td>\n",
       "      <td>2020-12-31 14:03:00</td>\n",
       "      <td>0</td>\n",
       "      <td>8.922108e+06</td>\n",
       "    </tr>\n",
       "    <tr>\n",
       "      <th>74</th>\n",
       "      <td>http://ssd.jpl.nasa.gov/sbdb.cgi?sstr=54099620</td>\n",
       "      <td>(2020 XQ3)</td>\n",
       "      <td>43.425279</td>\n",
       "      <td>5.930623</td>\n",
       "      <td>2020-12-30 20:15:00</td>\n",
       "      <td>0</td>\n",
       "      <td>1.806171e+07</td>\n",
       "    </tr>\n",
       "    <tr>\n",
       "      <th>75</th>\n",
       "      <td>http://ssd.jpl.nasa.gov/sbdb.cgi?sstr=54100194</td>\n",
       "      <td>(2020 XE5)</td>\n",
       "      <td>48.344004</td>\n",
       "      <td>7.914739</td>\n",
       "      <td>2020-12-31 14:19:00</td>\n",
       "      <td>0</td>\n",
       "      <td>1.353077e+07</td>\n",
       "    </tr>\n",
       "  </tbody>\n",
       "</table>\n",
       "<p>76 rows × 7 columns</p>\n",
       "</div>"
      ],
      "text/plain": [
       "                                              link                     name  \\\n",
       "0    http://ssd.jpl.nasa.gov/sbdb.cgi?sstr=2162173  162173 Ryugu (1999 JU3)   \n",
       "1    http://ssd.jpl.nasa.gov/sbdb.cgi?sstr=2276409        276409 (2002 YN2)   \n",
       "2    http://ssd.jpl.nasa.gov/sbdb.cgi?sstr=2480883        480883 (2001 YE4)   \n",
       "3    http://ssd.jpl.nasa.gov/sbdb.cgi?sstr=3752904              (2016 JP15)   \n",
       "4    http://ssd.jpl.nasa.gov/sbdb.cgi?sstr=3787623               (2017 UP2)   \n",
       "..                                             ...                      ...   \n",
       "71   http://ssd.jpl.nasa.gov/sbdb.cgi?sstr=3736807                (2015 YA)   \n",
       "72   http://ssd.jpl.nasa.gov/sbdb.cgi?sstr=3781461              (2017 RZ15)   \n",
       "73   http://ssd.jpl.nasa.gov/sbdb.cgi?sstr=3837605               (2019 AE3)   \n",
       "74  http://ssd.jpl.nasa.gov/sbdb.cgi?sstr=54099620               (2020 XQ3)   \n",
       "75  http://ssd.jpl.nasa.gov/sbdb.cgi?sstr=54100194               (2020 XE5)   \n",
       "\n",
       "       width_m  velocity_km_s       approach_date  potentially_hazardous  \\\n",
       "0   593.666601       4.110465 2020-12-28 16:46:00                      1   \n",
       "1   858.109316      27.090084 2020-12-29 04:14:00                      0   \n",
       "2   311.560661      25.743504 2020-12-29 00:08:00                      1   \n",
       "3   247.481430      22.140547 2020-12-29 07:10:00                      0   \n",
       "4   430.073434      13.958973 2020-12-29 15:40:00                      0   \n",
       "..         ...            ...                 ...                    ...   \n",
       "71   14.241070       5.650564 2020-12-31 08:00:00                      0   \n",
       "72   16.350936      19.482551 2020-12-31 13:32:00                      0   \n",
       "73   14.241070       7.870630 2020-12-31 14:03:00                      0   \n",
       "74   43.425279       5.930623 2020-12-30 20:15:00                      0   \n",
       "75   48.344004       7.914739 2020-12-31 14:19:00                      0   \n",
       "\n",
       "    miss_distance_km  \n",
       "0       9.054782e+06  \n",
       "1       5.201433e+07  \n",
       "2       5.753496e+07  \n",
       "3       7.088884e+07  \n",
       "4       2.721527e+07  \n",
       "..               ...  \n",
       "71      2.558024e+07  \n",
       "72      5.615976e+07  \n",
       "73      8.922108e+06  \n",
       "74      1.806171e+07  \n",
       "75      1.353077e+07  \n",
       "\n",
       "[76 rows x 7 columns]"
      ]
     },
     "execution_count": 13,
     "metadata": {},
     "output_type": "execute_result"
    }
   ],
   "source": [
    "rock_df"
   ]
  },
  {
   "cell_type": "code",
   "execution_count": 14,
   "metadata": {},
   "outputs": [],
   "source": [
    "lcm = LinearColorMapper(palette = Inferno256, low=selection.velocity_km_s.min(), high=selection.velocity_km_s.max())\n"
   ]
  },
  {
   "cell_type": "code",
   "execution_count": 71,
   "metadata": {},
   "outputs": [],
   "source": [
    "import json"
   ]
  },
  {
   "cell_type": "code",
   "execution_count": 17,
   "metadata": {},
   "outputs": [],
   "source": [
    "p = figure(x_axis_type='datetime', toolbar_location=None)\n",
    "cds = ColumnDataSource(data=selection.assign(width_m=selection.width_m/10))\n",
    "p.scatter(x='approach_date', y='miss_distance_km', size='width_m', \n",
    "          fill_color=transform('velocity_km_s', lcm),\n",
    "          line_color='black',\n",
    "          source=cds)\n",
    "\n",
    "p.xgrid.grid_line_color = None\n",
    "p.ygrid.grid_line_color = None\n",
    "p.outline_line_color = None\n",
    "# p.background_fill_color = '#fffff8'\n",
    "\n",
    "# p.axis.background_fill_color =  '#fffff8'\n",
    "show(p)"
   ]
  },
  {
   "cell_type": "code",
   "execution_count": 94,
   "metadata": {},
   "outputs": [],
   "source": [
    "datasets = {'potentially_hazardous': [],\n",
    "            'safe': []}\n",
    "for i,row in rock_df.iterrows():\n",
    "    if row['potentially_hazardous']:\n",
    "        datasets['potentially_hazardous'].append(dict(x=row['approach_date'].timestamp(),\n",
    "                                                      y=row['miss_distance_km'],\n",
    "                                                      width=row['width_m'],\n",
    "                                                      name=row['name'].strip('()') if (row['name'][0] == row['name'][-1]) and row['name'][0] in '()' else row['name'],\n",
    "                                                      speed=row['velocity_km_s'])\n",
    "                                                )\n",
    "    else:\n",
    "        datasets['safe'].append(dict(x=row['approach_date'].timestamp(),\n",
    "                                     y=row['miss_distance_km'],\n",
    "                                     width=row['width_m'],\n",
    "                                     name=row['name'].strip('()') if (row['name'][0] == row['name'][-1]) and row['name'][0] in '()' else row['name'],\n",
    "                                    speed=row['velocity_km_s'])\n",
    "                               )\n"
   ]
  },
  {
   "cell_type": "code",
   "execution_count": 95,
   "metadata": {},
   "outputs": [],
   "source": [
    "data = dict(datasets=[dict(label=k,\n",
    "                           data=datasets[k]) for k in datasets])"
   ]
  },
  {
   "cell_type": "code",
   "execution_count": 96,
   "metadata": {},
   "outputs": [
    {
     "data": {
      "text/plain": [
       "Timestamp('2021-01-02 15:27:00')"
      ]
     },
     "execution_count": 96,
     "metadata": {},
     "output_type": "execute_result"
    }
   ],
   "source": [
    "rock_df.approach_date.max()"
   ]
  },
  {
   "cell_type": "code",
   "execution_count": 97,
   "metadata": {},
   "outputs": [
    {
     "data": {
      "text/plain": [
       "'{\"datasets\": [{\"label\": \"potentially_hazardous\", \"data\": [{\"x\": 1609594680.0, \"y\": 37817502.366748236, \"width\": 326.2440628073, \"name\": \"2009 TK12\", \"speed\": 13.1554373816}, {\"x\": 1609551600.0, \"y\": 11620809.530290967, \"width\": 212.00329791865, \"name\": \"2020 WA5\", \"speed\": 7.3985016187}, {\"x\": 1609534020.0, \"y\": 49077952.33486014, \"width\": 484.55448403450004, \"name\": \"2020 XR\", \"speed\": 19.9007929071}, {\"x\": 1609173960.0, \"y\": 9054782.009668665, \"width\": 593.6666012068, \"name\": \"162173 Ryugu (1999 JU3\", \"speed\": 4.1104646764}, {\"x\": 1609200480.0, \"y\": 57534955.78196198, \"width\": 311.56066121444996, \"name\": \"480883 (2001 YE4\", \"speed\": 25.743504009}, {\"x\": 1609001340.0, \"y\": 56449735.4035949, \"width\": 450.3421707193, \"name\": \"68347 (2001 KB67\", \"speed\": 15.4634790765}, {\"x\": 1609047180.0, \"y\": 55136706.790400356, \"width\": 410.71694111505, \"name\": \"509352 (2007 AG\", \"speed\": 20.0773522027}, {\"x\": 1609100040.0, \"y\": 70009331.51895165, \"width\": 1080.2956239441, \"name\": \"154330 (2002 VX94\", \"speed\": 4.5613005717}]}, {\"label\": \"safe\", \"data\": [{\"x\": 1609570020.0, \"y\": 35641228.57962577, \"width\": 39.22316337185, \"name\": \"2009 WN8\", \"speed\": 9.1998204843}, {\"x\": 1609601220.0, \"y\": 52916866.13919033, \"width\": 156.15022590115, \"name\": \"2014 YD42\", \"speed\": 22.5532981673}, {\"x\": 1609590360.0, \"y\": 56392979.07874115, \"width\": 357.71950148935, \"name\": \"2016 PN\", \"speed\": 18.0459711405}, {\"x\": 1609525980.0, \"y\": 71590837.56519869, \"width\": 225.7057467285, \"name\": \"2016 YS8\", \"speed\": 18.3783336761}, {\"x\": 1609543860.0, \"y\": 31980061.189951792, \"width\": 25.9144870499, \"name\": \"2017 US\", \"speed\": 2.7745746489}, {\"x\": 1609543980.0, \"y\": 46583367.01239163, \"width\": 20.5846087521, \"name\": \"2019 AU6\", \"speed\": 18.297080153}, {\"x\": 1609550700.0, \"y\": 6452697.97658514, \"width\": 18.7733863058, \"name\": \"2019 YB4\", \"speed\": 7.1532537377}, {\"x\": 1609584900.0, \"y\": 21610373.457895175, \"width\": 39.22316337185, \"name\": \"2020 AT\", \"speed\": 8.5075544744}, {\"x\": 1609590600.0, \"y\": 69505596.01178375, \"width\": 61.3680914412, \"name\": \"2020 PE3\", \"speed\": 13.5483822144}, {\"x\": 1609531140.0, \"y\": 27857202.909111507, \"width\": 149.19099721695, \"name\": \"2020 TT7\", \"speed\": 3.5909009383}, {\"x\": 1609578540.0, \"y\": 8894581.211114971, \"width\": 164.5669487251, \"name\": \"2020 XP2\", \"speed\": 13.3217776363}, {\"x\": 1609523280.0, \"y\": 15782876.066477422, \"width\": 42.4563462852, \"name\": \"2020 XW2\", \"speed\": 2.7813664251}, {\"x\": 1609464360.0, \"y\": 45407142.65935467, \"width\": 68.16204581375, \"name\": \"2015 XP54\", \"speed\": 11.3570947629}, {\"x\": 1609515720.0, \"y\": 31304056.450062633, \"width\": 45.034217071949996, \"name\": \"2018 OZ\", \"speed\": 7.481275019}, {\"x\": 1609463940.0, \"y\": 39824034.616519675, \"width\": 41.0716941115, \"name\": \"2019 BF3\", \"speed\": 11.9386719798}, {\"x\": 1609477380.0, \"y\": 21847576.78303376, \"width\": 1.96581487445, \"name\": \"2019 VB5\", \"speed\": 4.9196729964}, {\"x\": 1609469160.0, \"y\": 15056955.843053432, \"width\": 117.7992748044, \"name\": \"2020 XQ6\", \"speed\": 18.8291241167}, {\"x\": 1609514520.0, \"y\": 16746048.488664122, \"width\": 94.8293157455, \"name\": \"2020 YQ1\", \"speed\": 11.6927442748}, {\"x\": 1609215240.0, \"y\": 52014327.82808481, \"width\": 858.1093159479001, \"name\": \"276409 (2002 YN2\", \"speed\": 27.0900842757}, {\"x\": 1609225800.0, \"y\": 70888844.45893633, \"width\": 247.481430032, \"name\": \"2016 JP15\", \"speed\": 22.1405466355}, {\"x\": 1609256400.0, \"y\": 27215273.60197052, \"width\": 430.07343420970005, \"name\": \"2017 UP2\", \"speed\": 13.9589732496}, {\"x\": 1609246080.0, \"y\": 49881315.650596164, \"width\": 393.1358210157, \"name\": \"2020 WC5\", \"speed\": 20.3638263419}, {\"x\": 1609252980.0, \"y\": 27806487.705283236, \"width\": 58.98514031425, \"name\": \"2020 XE2\", \"speed\": 3.6830198468}, {\"x\": 1609226460.0, \"y\": 22509248.715555876, \"width\": 76.40866588515, \"name\": \"2020 XB4\", \"speed\": 17.0768095583}, {\"x\": 1609211400.0, \"y\": 2070856.790707649, \"width\": 45.702779873850005, \"name\": \"2020 XZ4\", \"speed\": 8.7176980807}, {\"x\": 1609230240.0, \"y\": 7835611.369388277, \"width\": 31.749918648650002, \"name\": \"2020 YO1\", \"speed\": 8.8225828278}, {\"x\": 1609073580.0, \"y\": 70082463.52976559, \"width\": 1031.67431157805, \"name\": \"351340 (2004 YC5\", \"speed\": 29.2778503446}, {\"x\": 1609021920.0, \"y\": 62768709.47480383, \"width\": 225.7057467285, \"name\": \"2007 SW2\", \"speed\": 14.1947867104}, {\"x\": 1609013400.0, \"y\": 48068788.321429566, \"width\": 78.2604997497, \"name\": \"2014 YZ8\", \"speed\": 19.0278697902}, {\"x\": 1609026240.0, \"y\": 2800460.188489974, \"width\": 11.3120838817, \"name\": \"2016 AF2\", \"speed\": 5.349361534}, {\"x\": 1609043520.0, \"y\": 73148947.79111943, \"width\": 98.5241318746, \"name\": \"2016 RW\", \"speed\": 20.6409244771}, {\"x\": 1609066080.0, \"y\": 61208359.918367065, \"width\": 14.912230804099998, \"name\": \"2018 DR\", \"speed\": 5.0808799996}, {\"x\": 1609031160.0, \"y\": 33771356.467423975, \"width\": 17.12153180235, \"name\": \"2019 AK3\", \"speed\": 17.0362282894}, {\"x\": 1609003620.0, \"y\": 14047679.302105041, \"width\": 32.62440628075, \"name\": \"2019 AO12\", \"speed\": 11.1404292262}, {\"x\": 1609045260.0, \"y\": 24274437.93801052, \"width\": 122.9539872233, \"name\": \"2020 YV2\", \"speed\": 16.1859004487}, {\"x\": 1609057860.0, \"y\": 5531948.024700069, \"width\": 47.68069936365, \"name\": \"2020 YC4\", \"speed\": 12.7741799877}, {\"x\": 1609017600.0, \"y\": 8281986.191267395, \"width\": 70.52492238245, \"name\": \"2020 YJ4\", \"speed\": 10.8783036138}, {\"x\": 1609114380.0, \"y\": 19726735.020580664, \"width\": 10.802956239450001, \"name\": \"2009 YR\", \"speed\": 7.2002466762}, {\"x\": 1609122240.0, \"y\": 42786423.6235195, \"width\": 541.4303752642, \"name\": \"2013 GE84\", \"speed\": 17.3288852011}, {\"x\": 1609090200.0, \"y\": 20662938.62691397, \"width\": 47.156614335149996, \"name\": \"2016 VV2\", \"speed\": 11.2083309493}, {\"x\": 1609107600.0, \"y\": 59461186.85715525, \"width\": 49.37903709974999, \"name\": \"2017 KG3\", \"speed\": 15.7116884219}, {\"x\": 1609155900.0, \"y\": 15027960.649251949, \"width\": 187.7338630584, \"name\": \"2017 YD8\", \"speed\": 16.8255008175}, {\"x\": 1609169700.0, \"y\": 62555038.34340986, \"width\": 11.845205970450001, \"name\": \"2018 WZ2\", \"speed\": 18.1262799333}, {\"x\": 1609156860.0, \"y\": 36056631.03249476, \"width\": 12.4034533292, \"name\": \"2019 JY7\", \"speed\": 5.6856027681}, {\"x\": 1609132200.0, \"y\": 67068340.99127662, \"width\": 372.17107496475, \"name\": \"2020 WR5\", \"speed\": 23.5365524366}, {\"x\": 1609096200.0, \"y\": 29800742.4279442, \"width\": 182.2815096993, \"name\": \"2020 YE1\", \"speed\": 31.6251414554}, {\"x\": 1609123380.0, \"y\": 13768931.720960667, \"width\": 46.659772488449995, \"name\": \"2020 YP2\", \"speed\": 6.8745754837}, {\"x\": 1609155600.0, \"y\": 2977766.067338616, \"width\": 26.1542708463, \"name\": \"2020 YM3\", \"speed\": 4.8126749921}, {\"x\": 1609110240.0, \"y\": 1065528.33202579, \"width\": 31.9847246898, \"name\": \"2020 YG4\", \"speed\": 13.658075915}, {\"x\": 1609120440.0, \"y\": 2165635.987305275, \"width\": 17.200561202350002, \"name\": \"2020 YN4\", \"speed\": 3.1254162602}, {\"x\": 1609333860.0, \"y\": 27575586.684091374, \"width\": 493.7903709975, \"name\": \"310842 (2003 AK18\", \"speed\": 16.8729240868}, {\"x\": 1609290960.0, \"y\": 72445037.51335408, \"width\": 89.85507620775, \"name\": \"2002 EC\", \"speed\": 20.4578804271}, {\"x\": 1609323900.0, \"y\": 49149249.96163236, \"width\": 271.35799198045004, \"name\": \"2006 YF\", \"speed\": 7.1497553816}, {\"x\": 1609275420.0, \"y\": 54387744.62041153, \"width\": 236.3429308586, \"name\": \"2010 YC1\", \"speed\": 18.9172998381}, {\"x\": 1609267560.0, \"y\": 5940827.307327073, \"width\": 56.6947202721, \"name\": \"2012 UK171\", \"speed\": 4.7055839921}, {\"x\": 1609265880.0, \"y\": 25118337.354746625, \"width\": 247.481430032, \"name\": \"2015 NJ24\", \"speed\": 7.8978974873}, {\"x\": 1609316280.0, \"y\": 42518580.425596654, \"width\": 29.75381215555, \"name\": \"2016 GL222\", \"speed\": 10.2608729306}, {\"x\": 1609364880.0, \"y\": 67474995.663818, \"width\": 215.54731474814997, \"name\": \"2010 PQ10\", \"speed\": 21.6927045435}, {\"x\": 1609403700.0, \"y\": 30209305.206357647, \"width\": 108.0295623944, \"name\": \"2012 YK\", \"speed\": 15.8110212271}, {\"x\": 1609401600.0, \"y\": 25580243.951081686, \"width\": 14.24106985895, \"name\": \"2015 YA\", \"speed\": 5.6505639078}, {\"x\": 1609421520.0, \"y\": 56159763.09035018, \"width\": 16.350935932549998, \"name\": \"2017 RZ15\", \"speed\": 19.482551063}, {\"x\": 1609423380.0, \"y\": 8922107.72782773, \"width\": 14.24106985895, \"name\": \"2019 AE3\", \"speed\": 7.8706296485}, {\"x\": 1609359300.0, \"y\": 18061714.272950184, \"width\": 43.42527894605, \"name\": \"2020 XQ3\", \"speed\": 5.93062281}, {\"x\": 1609424340.0, \"y\": 13530769.09948071, \"width\": 48.34400396465, \"name\": \"2020 XE5\", \"speed\": 7.9147393945}, {\"x\": 1609365780.0, \"y\": 6096880.325417573, \"width\": 40.9583654682, \"name\": \"2020 YB4\", \"speed\": 14.8612024942}]}]}'"
      ]
     },
     "execution_count": 97,
     "metadata": {},
     "output_type": "execute_result"
    }
   ],
   "source": [
    "json.dumps(data)"
   ]
  },
  {
   "cell_type": "code",
   "execution_count": 21,
   "metadata": {},
   "outputs": [
    {
     "data": {
      "text/plain": [
       "{'datasets': [{'label': 'First Dataset',\n",
       "   'data': [{'x': 20, 'y': 30, 'r': 15}, {'x': 40, 'y': 10, 'r': 10}],\n",
       "   'backgroundColor': 'rgb(255, 99, 132)'}]}"
      ]
     },
     "execution_count": 21,
     "metadata": {},
     "output_type": "execute_result"
    }
   ],
   "source": [
    "{\"datasets\":[{\"label\":\"First Dataset\",\"data\":[{\"x\":20,\"y\":30,\"r\":15},{\"x\":40,\"y\":10,\"r\":10}],\"backgroundColor\":\"rgb(255, 99, 132)\"}]}"
   ]
  },
  {
   "cell_type": "code",
   "execution_count": 34,
   "metadata": {},
   "outputs": [
    {
     "data": {
      "text/plain": [
       "'2020-12-26 15:55:00'"
      ]
     },
     "execution_count": 34,
     "metadata": {},
     "output_type": "execute_result"
    }
   ],
   "source": [
    "str(row.approach_date)"
   ]
  },
  {
   "cell_type": "code",
   "execution_count": null,
   "metadata": {},
   "outputs": [],
   "source": []
  }
 ],
 "metadata": {
  "kernelspec": {
   "display_name": "Python 3",
   "language": "python",
   "name": "python3"
  },
  "language_info": {
   "codemirror_mode": {
    "name": "ipython",
    "version": 3
   },
   "file_extension": ".py",
   "mimetype": "text/x-python",
   "name": "python",
   "nbconvert_exporter": "python",
   "pygments_lexer": "ipython3",
   "version": "3.8.5"
  }
 },
 "nbformat": 4,
 "nbformat_minor": 4
}
