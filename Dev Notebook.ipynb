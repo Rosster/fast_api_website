{
 "cells": [
  {
   "cell_type": "code",
   "execution_count": 1,
   "metadata": {},
   "outputs": [],
   "source": [
    "import requests\n",
    "import os\n",
    "import json\n",
    "from datetime import datetime, timedelta"
   ]
  },
  {
   "cell_type": "code",
   "execution_count": 5,
   "metadata": {},
   "outputs": [],
   "source": [
    "req = requests.get(r\"https://api.artic.edu/api/v1/artworks/search?query[term][place_of_origin]=hawaii\")"
   ]
  },
  {
   "cell_type": "code",
   "execution_count": 6,
   "metadata": {},
   "outputs": [
    {
     "data": {
      "text/plain": [
       "{'preference': None,\n",
       " 'pagination': {'total': 1,\n",
       "  'limit': 10,\n",
       "  'offset': 0,\n",
       "  'total_pages': 1,\n",
       "  'current_page': 1},\n",
       " 'data': [{'_score': 26.612068,\n",
       "   'thumbnail': {'alt_text': 'A work.',\n",
       "    'width': 3000,\n",
       "    'lqip': None,\n",
       "    'height': 2142},\n",
       "   'api_model': 'artworks',\n",
       "   'is_boosted': False,\n",
       "   'api_link': 'https://api.artic.edu/api/v1/artworks/63591',\n",
       "   'id': 63591,\n",
       "   'title': 'Hawaiian Islands',\n",
       "   'timestamp': '2021-02-07T03:11:36-06:00'}],\n",
       " 'info': {'license_text': 'The data in this response is licensed under a Creative Commons Zero (CC0) 1.0 designation and the Terms and Conditions of artic.edu.',\n",
       "  'license_links': ['https://creativecommons.org/publicdomain/zero/1.0/',\n",
       "   'https://www.artic.edu/terms'],\n",
       "  'version': '1.0'}}"
      ]
     },
     "execution_count": 6,
     "metadata": {},
     "output_type": "execute_result"
    }
   ],
   "source": [
    "req.json()"
   ]
  },
  {
   "cell_type": "code",
   "execution_count": null,
   "metadata": {},
   "outputs": [],
   "source": []
  }
 ],
 "metadata": {
  "kernelspec": {
   "display_name": "Python 3",
   "language": "python",
   "name": "python3"
  },
  "language_info": {
   "codemirror_mode": {
    "name": "ipython",
    "version": 3
   },
   "file_extension": ".py",
   "mimetype": "text/x-python",
   "name": "python",
   "nbconvert_exporter": "python",
   "pygments_lexer": "ipython3",
   "version": "3.8.5"
  }
 },
 "nbformat": 4,
 "nbformat_minor": 4
}
