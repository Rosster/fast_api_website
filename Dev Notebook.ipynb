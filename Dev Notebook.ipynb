{
 "cells": [
  {
   "cell_type": "code",
   "execution_count": 14,
   "metadata": {},
   "outputs": [],
   "source": [
    "import classes\n",
    "import aiosqlite\n",
    "import re"
   ]
  },
  {
   "cell_type": "code",
   "execution_count": 2,
   "metadata": {
    "scrolled": true
   },
   "outputs": [
    {
     "name": "stderr",
     "output_type": "stream",
     "text": [
      "/Users/rosskelly/Development/repositories/fast_api_website/venv/lib/python3.11/site-packages/bs4/builder/__init__.py:545: XMLParsedAsHTMLWarning: It looks like you're parsing an XML document using an HTML parser. If this really is an HTML document (maybe it's XHTML?), you can ignore or filter this warning. If it's XML, you should know that using an XML parser will be more reliable. To parse this document as XML, make sure you have the lxml package installed, and pass the keyword argument `features=\"xml\"` into the BeautifulSoup constructor.\n",
      "  warnings.warn(\n"
     ]
    }
   ],
   "source": [
    "content = classes.ContentOrganizer()"
   ]
  },
  {
   "cell_type": "code",
   "execution_count": 3,
   "metadata": {},
   "outputs": [],
   "source": [
    "db = classes.PostInMemoryDatabase()"
   ]
  },
  {
   "cell_type": "code",
   "execution_count": 4,
   "metadata": {},
   "outputs": [],
   "source": [
    "await db.setup(content)"
   ]
  },
  {
   "cell_type": "code",
   "execution_count": null,
   "metadata": {},
   "outputs": [],
   "source": [
    "t = await db._query(\n",
    "'''\n",
    "with snippets as (\n",
    "    SELECT \n",
    "    title,\n",
    "    keywords,\n",
    "    text,\n",
    "    \n",
    "    snippet(posts, 0, '<b>', '</b>', '', 8) as title_snippet,\n",
    "    snippet(posts, 1, '<b>', '</b>', '', 8) as keywords_snippet,\n",
    "    snippet(posts, 2, '<b>', '</b>', '', 8) as text_snippet\n",
    "\n",
    "    FROM posts \n",
    "    WHERE posts MATCH ?\n",
    "    order by rank\n",
    ")\n",
    "select \n",
    "    title,\n",
    "    title_snippet,\n",
    "    instr(title, title_snippet) = 0 as title_match,\n",
    "    keywords,\n",
    "    keywords_snippet,\n",
    "    instr(keywords, keywords_snippet) = 0 as keyword_match,\n",
    "    text,\n",
    "    text_snippet,\n",
    "    instr(text, text_snippet) = 0 as text_match\n",
    "    \n",
    "\n",
    "from snippets\n",
    "''',\n",
    "('tufte',))"
   ]
  },
  {
   "cell_type": "code",
   "execution_count": null,
   "metadata": {},
   "outputs": [],
   "source": [
    "dict(t[0])"
   ]
  },
  {
   "cell_type": "code",
   "execution_count": 5,
   "metadata": {},
   "outputs": [
    {
     "data": {
      "text/plain": [
       "[{'title': 'Post No. 1',\n",
       "  'keywords': 'hello_world',\n",
       "  'text': \" Post 1!  Post No. 1 I'm trying to do a few things here. 1) Keep some sort of blog thing, 2) mess around with FastAPI, and 3) mess around with this nifty tufte.css. This is really just some additional content for test purposes. Thanks for reading though! \",\n",
       "  'title_snippet': 'Post No. 1',\n",
       "  'keywords_snippet': 'Post No. 1',\n",
       "  'text_snippet': 'Post No. 1',\n",
       "  'title_match': 0,\n",
       "  'keywords_match': 1,\n",
       "  'text_match': 0},\n",
       " {'title': 'NASA Asteroid API',\n",
       "  'keywords': 'space nasa api js python asteroids apocalypse async chartjs',\n",
       "  'text': ' Nasa Near Earth Object API    NASA Asteroid API We plot some oncoming near earth objects (c.o. another delightful NASA api). I do a decent amount of data vis in my day job, but mostly in python (I use Bokeh for the interactive stuff, matplotlib for the quick and dirty \"what does the dataframe look like\" sort of questions), but not much clientside charting. So, mostly because I wasn\\'t able to style a bokeh plot as I wanted You might have noticed that Tufte.css doesn\\'t use totally white backgrounds or totally black text, it uses #fffff8 and #111111. So, I wanted to make the background of my bubble plot look like that, but couldn\\'t, so here we are., I decided to use Chart.js, which I\\'m decidedly meh on. I think I noticed it when I was writing my last post; NASA also has a pretty cool near earth object api, and I got it in my head to make a live bubble chart delightfully visualizing our imminent demise. This was fun-ish because I (a) learned a bit about Chart.js Mostly I\\'ve learned that I don\\'t love it. So far it just seems a bit more limited than python tools, but t.b.h. that might just be my lack of familiarity, and the fact that I\\'m more used to matplotlib style data inputs. Then again, it\\'s always good to have a clientside option for visualizations, especially interactive ones. Also, the animations seem a bit superfluous. and (b) I muddled through some more async python. I\\'m going to write more about the process and the code later, but I\\'ve got to clean it up first, and I wanted to post something because it\\'s been forever. So, I cleaned up the python, learning a smidge about better documentation in the process. The repo lives here. Have fun with it, I guess. To be honest, I do not have the energy to go through a how to (I\\'m doing that for work at the moment, and the process fills me with dread). I\\'ll summarize some more of my thoughts and feelings though. The async python stuff is a drag, but it does make a difference. I\\'m not using it in a particularly nuanced way here, but the pattern works. You basically want the coroutines to bubble all the way up to the fastApi endpoints. When they do, you can actually see that it\\'s running everything simultaneously. It would be worth bookmarking that against Flask\\'s threading behavior, though. I\\'m honestly struggling with the proper separation of the visualization and data layers. It was a pain to reformat data to fit the ChartJS requirements (as is probably abundantly clear from this post), then again it wasn\\'t hard, just annoying. And you get all the delightful customizability that comes along with clientside development. The contrast is a more python-only option Those of us keeping track at home will recall that this whole charade began because I couldn\\'t style the background color of a bokeh plot., which counts for a whole lot, especially if you don\\'t care to bother with a hot mess of javascript. Long story short, I really don\\'t envy the balance that data visualization libraries have to walk in keeping things customizable while easy to use. But I do love the idea of building a bunch of data endpoints, because it feels that lots of different clients in the future will be able to make use of them. I\\'m not sure how to balance that against the cost of making something that will fill the immediate dashboard/publication requirements. ',\n",
       "  'title_snippet': 'NASA Asteroid API',\n",
       "  'keywords_snippet': 'NASA Asteroid API',\n",
       "  'text_snippet': 'NASA Asteroid API',\n",
       "  'title_match': 0,\n",
       "  'keywords_match': 1,\n",
       "  'text_match': 0}]"
      ]
     },
     "execution_count": 5,
     "metadata": {},
     "output_type": "execute_result"
    }
   ],
   "source": [
    "await db.match_posts('tufte')"
   ]
  },
  {
   "cell_type": "code",
   "execution_count": 19,
   "metadata": {},
   "outputs": [
    {
     "data": {
      "text/plain": [
       "'    We plot some oncoming near earth objects (c.o. another delightful NASA api). I do a decent amount of data vis in my day job, but mostly in python (I use Bokeh for the interactive stuff, matplotlib for the quick and dirty \"what does the dataframe look like\" sort of questions), but not much clientside charting. So, mostly because I wasn\\'t able to style a bokeh plot as I wanted You might have noticed that Tufte.css doesn\\'t use totally white backgrounds or totally black text, it uses #fffff8 and #111111. So, I wanted to make the background of my bubble plot look like that, but couldn\\'t, so here we are., I decided to use Chart.js, which I\\'m decidedly meh on. I think I noticed it when I was writing my last post; NASA also has a pretty cool near earth object api, and I got it in my head to make a live bubble chart delightfully visualizing our imminent demise. This was fun-ish because I (a) learned a bit about Chart.js Mostly I\\'ve learned that I don\\'t love it. So far it just seems a bit more limited than python tools, but t.b.h. that might just be my lack of familiarity, and the fact that I\\'m more used to matplotlib style data inputs. Then again, it\\'s always good to have a clientside option for visualizations, especially interactive ones. Also, the animations seem a bit superfluous. and (b) I muddled through some more async python. I\\'m going to write more about the process and the code later, but I\\'ve got to clean it up first, and I wanted to post something because it\\'s been forever. So, I cleaned up the python, learning a smidge about better documentation in the process. The repo lives here. Have fun with it, I guess. To be honest, I do not have the energy to go through a how to (I\\'m doing that for work at the moment, and the process fills me with dread). I\\'ll summarize some more of my thoughts and feelings though. The async python stuff is a drag, but it does make a difference. I\\'m not using it in a particularly nuanced way here, but the pattern works. You basically want the coroutines to bubble all the way up to the fastApi endpoints. When they do, you can actually see that it\\'s running everything simultaneously. It would be worth bookmarking that against Flask\\'s threading behavior, though. I\\'m honestly struggling with the proper separation of the visualization and data layers. It was a pain to reformat data to fit the ChartJS requirements (as is probably abundantly clear from this post), then again it wasn\\'t hard, just annoying. And you get all the delightful customizability that comes along with clientside development. The contrast is a more python-only option Those of us keeping track at home will recall that this whole charade began because I couldn\\'t style the background color of a bokeh plot., which counts for a whole lot, especially if you don\\'t care to bother with a hot mess of javascript. Long story short, I really don\\'t envy the balance that data visualization libraries have to walk in keeping things customizable while easy to use. But I do love the idea of building a bunch of data endpoints, because it feels that lots of different clients in the future will be able to make use of them. I\\'m not sure how to balance that against the cost of making something that will fill the immediate dashboard/publication requirements. '"
      ]
     },
     "execution_count": 19,
     "metadata": {},
     "output_type": "execute_result"
    }
   ],
   "source": [
    "content.post_lookup['nasa asteroid api'].get_text(\n",
    "    re.sub(r'(<h1>.*?</h1>)|({% block title %}.*?{% endblock %})', \n",
    "           '', \n",
    "    content.post_lookup['nasa asteroid api'].raw_html        \n",
    "  )\n",
    ")"
   ]
  },
  {
   "cell_type": "code",
   "execution_count": 17,
   "metadata": {},
   "outputs": [
    {
     "data": {
      "text/plain": [
       "'{% extends \"base_document.html\" %}\\n{% block title %}Nasa Near Earth Object API{% endblock %}\\n{% block additional_scripts %}\\n<script src=\"https://cdn.jsdelivr.net/npm/chart.js@2.9.4\"></script>\\n<script src=\"https://cdnjs.cloudflare.com/ajax/libs/chartjs-plugin-annotation/0.5.7/chartjs-plugin-annotation.js\"></script>\\n<script src=\"https://d3js.org/d3-color.v1.min.js\"></script>\\n<script src=\"https://d3js.org/d3-interpolate.v1.min.js\"></script>\\n<script src=\"https://d3js.org/d3-scale-chromatic.v1.min.js\"></script>\\n<script src=\"{{ url_for(\\'static\\', path=\\'/asteroid_plot.js\\') }}\"></script>\\n{% endblock %}\\n{% block content %}\\n<meta name=\"type\" content=\"blog_post\">\\n<meta name=\"keywords\" content=\"space nasa api js python asteroids apocalypse async chartjs\">\\n<meta name=\"timestamp\" content=\"202101222219\">\\n<article class=\"no-top-padding\">\\n    <h1>NASA Asteroid API</h1>\\n    <preview>\\n        <section>\\n                <p>\\n                    We plot some oncoming near earth objects\\n                    (c.o. another delightful NASA api).\\n                </p>\\n        </section>\\n    </preview>\\n    <figure class=\"fullwidth\">\\n        <div class=\"chart-container\">\\n            <canvas id=\"myChart\"></canvas>\\n        </div>\\n    </figure>\\n    <section>\\n        <p>\\n            I do a decent amount of data vis in my day job, but mostly\\n            in python (I use Bokeh for the interactive stuff, matplotlib for the quick and dirty \"what\\n            does the dataframe look like\" sort of questions), but not much clientside charting.  So,\\n            mostly because I wasn\\'t able to style a bokeh plot as I\\n            wanted<label for=\"bokeh_struggle\" class=\"margin-toggle sidenote-number\"></label>\\n            <input type=\"checkbox\" id=\"bokeh_struggle\" class=\"margin-toggle\"><span class=\"sidenote\">\\n            You might have noticed that Tufte.css doesn\\'t use totally white backgrounds\\n            or totally black text, it uses <code>#fffff8</code> and <code>#111111</code>.\\n            So, I wanted to make the background of my bubble plot look like that, but couldn\\'t,\\n            so here we are.</span>, I decided to use Chart.js, which I\\'m decidedly <em>meh</em> on.\\n        </p>\\n        <p>\\n            I think I noticed it when I was writing my last post; NASA also has a pretty cool near\\n            earth object api, and I got it in my head to make a live bubble chart delightfully\\n            visualizing our imminent demise.  This was fun-ish because I (a) learned a bit about\\n            Chart.js<label for=\"chart_js\" class=\"margin-toggle sidenote-number\"></label>\\n            <input type=\"checkbox\" id=\"chart_js\" class=\"margin-toggle\"><span class=\"sidenote\">\\n            Mostly I\\'ve learned that I don\\'t love it.  So far it just seems a bit more limited\\n            than python tools, but t.b.h. that might just be my lack of familiarity, and the fact\\n            that I\\'m more used to matplotlib style data inputs. Then again, it\\'s always good to have\\n            a clientside option for visualizations, especially interactive ones.  Also, the animations\\n            seem a bit superfluous.</span> and (b) I muddled through some more async python.\\n        </p>\\n        <p>\\n            <del>I\\'m going to write more about the process and the code later, but I\\'ve got to clean it up first,\\n            and I wanted to post something because it\\'s been forever.</del>  So, I cleaned up the python, learning\\n            a smidge about better documentation in the process.  The repo lives\\n            <a href=\"https://github.com/Rosster/fast_api_website\">here</a>.  Have fun with it, I guess.\\n            To be honest, I do not have the energy to go through a how to (I\\'m doing that for work at the moment,\\n            and the process fills me with dread).  I\\'ll summarize some more of my thoughts and feelings though.\\n            <ol>\\n                <li>\\n                    The async python stuff is a <em>drag</em>, but it does make a difference.  I\\'m not using it in a\\n                    particularly nuanced way here, but the pattern works.  You basically want the coroutines to bubble\\n                    all the way up to the fastApi endpoints. When they do, you can actually see that it\\'s running\\n                    everything simultaneously.  It would be worth bookmarking that against Flask\\'s threading behavior,\\n                    though.\\n                </li>\\n                <li>\\n                    I\\'m honestly struggling with the proper separation of the visualization and data layers.  It was a\\n                    pain to reformat data to fit the ChartJS requirements (as is probably abundantly clear from this\\n                    post), then again it wasn\\'t <strong>hard</strong>, just annoying.  And you get all the delightful\\n                    customizability that comes along with clientside development.  The contrast is a more python-only\\n                    option<label for=\"python_only\" class=\"margin-toggle sidenote-number\"></label>\\n                    <input type=\"checkbox\" id=\"python_only\" class=\"margin-toggle\"><span class=\"sidenote\">Those of us\\n                    keeping track at home will recall that this whole charade began because I\\n                    couldn\\'t style the background color of a bokeh plot.</span>, which counts for a whole lot,\\n                    especially if you don\\'t care to bother with a hot mess of javascript.  Long story short, I really\\n                    don\\'t envy the balance that data visualization libraries have to walk in keeping things customizable\\n                    while easy to use.  But I do love the idea of building a bunch of data endpoints, because it\\n                    feels that lots of different clients in the future will be able to make use of them.  I\\'m not\\n                    sure how to balance that against the cost of making something that will fill the immediate\\n                    dashboard/publication requirements.\\n                </li>\\n            </ol>\\n        </p>\\n    </section>\\n</article>\\n{% endblock %}'"
      ]
     },
     "execution_count": 17,
     "metadata": {},
     "output_type": "execute_result"
    }
   ],
   "source": [
    "content.post_lookup['nasa asteroid api'].raw_html  "
   ]
  },
  {
   "cell_type": "code",
   "execution_count": 6,
   "metadata": {},
   "outputs": [],
   "source": [
    "# title='title',\n",
    "# title_snippet='<b>tit</b>le',\n",
    "# keyword='key word',\n",
    "# keyword_snipper='',\n",
    "# text='this is test yay',\n",
    "# text_snippet='this <b>is</b> test yay',\n",
    "# post_date='2023-01-01'"
   ]
  },
  {
   "cell_type": "code",
   "execution_count": 22,
   "metadata": {},
   "outputs": [],
   "source": [
    "from datetime import datetime"
   ]
  },
  {
   "cell_type": "code",
   "execution_count": 24,
   "metadata": {},
   "outputs": [],
   "source": [
    "t = {'timestsamp':'202202021201'}\n",
    "match t.get('timestamp'):\n",
    "    case None:\n",
    "        s = None\n",
    "    case ts:\n",
    "        s = datetime.strptime(ts, '%Y%m%d%H%M')\n",
    "s"
   ]
  },
  {
   "cell_type": "code",
   "execution_count": null,
   "metadata": {},
   "outputs": [],
   "source": []
  }
 ],
 "metadata": {
  "kernelspec": {
   "display_name": "Python 3 (ipykernel)",
   "language": "python",
   "name": "python3"
  },
  "language_info": {
   "codemirror_mode": {
    "name": "ipython",
    "version": 3
   },
   "file_extension": ".py",
   "mimetype": "text/x-python",
   "name": "python",
   "nbconvert_exporter": "python",
   "pygments_lexer": "ipython3",
   "version": "3.11.0"
  }
 },
 "nbformat": 4,
 "nbformat_minor": 4
}
